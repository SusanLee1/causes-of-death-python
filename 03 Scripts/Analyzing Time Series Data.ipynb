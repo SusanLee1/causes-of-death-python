{
 "cells": [
  {
   "cell_type": "markdown",
   "id": "7069f165",
   "metadata": {},
   "source": [
    "# Analyzing Time Series Data"
   ]
  },
  {
   "cell_type": "markdown",
   "id": "4bc47ad3",
   "metadata": {},
   "source": [
    "## Contents List:\n",
    "\n",
    "#### 1. Import libraries and data\n",
    "#### 2. Subsetting, wrangling, and cleaning time-series data\n",
    "#### 3. Time-series analysis: decomposition\n",
    "#### 4. Testing for stationarity\n",
    "#### 5. Stationarize the data using differencing"
   ]
  },
  {
   "cell_type": "markdown",
   "id": "fd531098",
   "metadata": {},
   "source": [
    "## 1. Import libraries and data"
   ]
  },
  {
   "cell_type": "code",
   "execution_count": 1,
   "id": "5b96b7e3",
   "metadata": {},
   "outputs": [],
   "source": [
    "import pandas as pd\n",
    "import numpy as np\n",
    "import seaborn as sns\n",
    "import matplotlib\n",
    "import matplotlib.pyplot as plt\n",
    "import statsmodels.api as sm\n",
    "import os\n",
    "import warnings \n",
    "\n",
    "plt.style.use('fivethirtyeight')"
   ]
  },
  {
   "cell_type": "code",
   "execution_count": 2,
   "id": "49001590",
   "metadata": {},
   "outputs": [],
   "source": [
    "# Prompt matplotlib visuals to appear in the notebook \n",
    "\n",
    "%matplotlib inline"
   ]
  },
  {
   "cell_type": "code",
   "execution_count": 3,
   "id": "bd0aae5c",
   "metadata": {},
   "outputs": [],
   "source": [
    "# Import merged_with_income_code.csv\n",
    "\n",
    "path = r'C:\\Users\\susan\\OneDrive\\Desktop\\Data Analytics Program\\Causes_of_Death_Worldwide_Analysis_Susan_Lee'\n",
    "\n",
    "df = pd.read_csv(os.path.join(path, '02 Data', 'Prepared Data', 'merged_with_income_code.csv'), index_col = False)"
   ]
  },
  {
   "cell_type": "code",
   "execution_count": 4,
   "id": "2ccfc927",
   "metadata": {},
   "outputs": [],
   "source": [
    "# Set the max columns and rows to none\n",
    "\n",
    "pd.set_option('display.max_columns', None)\n",
    "pd.set_option('display.max_rows', None)"
   ]
  },
  {
   "cell_type": "code",
   "execution_count": 5,
   "id": "6c5d931d",
   "metadata": {},
   "outputs": [
    {
     "data": {
      "text/html": [
       "<div>\n",
       "<style scoped>\n",
       "    .dataframe tbody tr th:only-of-type {\n",
       "        vertical-align: middle;\n",
       "    }\n",
       "\n",
       "    .dataframe tbody tr th {\n",
       "        vertical-align: top;\n",
       "    }\n",
       "\n",
       "    .dataframe thead th {\n",
       "        text-align: right;\n",
       "    }\n",
       "</style>\n",
       "<table border=\"1\" class=\"dataframe\">\n",
       "  <thead>\n",
       "    <tr style=\"text-align: right;\">\n",
       "      <th></th>\n",
       "      <th>Country/Territory</th>\n",
       "      <th>Code</th>\n",
       "      <th>Year</th>\n",
       "      <th>Meningitis</th>\n",
       "      <th>Alzheimer's Disease and Other Dementias</th>\n",
       "      <th>Parkinson's Disease</th>\n",
       "      <th>Nutritional Deficiencies</th>\n",
       "      <th>Malaria</th>\n",
       "      <th>Drowning</th>\n",
       "      <th>Interpersonal Violence</th>\n",
       "      <th>Maternal Disorders</th>\n",
       "      <th>HIV/AIDS</th>\n",
       "      <th>Drug Use Disorders</th>\n",
       "      <th>Tuberculosis</th>\n",
       "      <th>Cardiovascular Diseases</th>\n",
       "      <th>Lower Respiratory Infections</th>\n",
       "      <th>Neonatal Disorders</th>\n",
       "      <th>Alcohol Use Disorders</th>\n",
       "      <th>Self-harm</th>\n",
       "      <th>Exposure to Forces of Nature</th>\n",
       "      <th>Diarrheal Diseases</th>\n",
       "      <th>Environmental Heat and Cold Exposure</th>\n",
       "      <th>Neoplasms</th>\n",
       "      <th>Conflict and Terrorism</th>\n",
       "      <th>Diabetes Mellitus</th>\n",
       "      <th>Chronic Kidney Disease</th>\n",
       "      <th>Poisonings</th>\n",
       "      <th>Protein-Energy Malnutrition</th>\n",
       "      <th>Road Injuries</th>\n",
       "      <th>Chronic Respiratory Diseases</th>\n",
       "      <th>Cirrhosis and Other Chronic Liver Diseases</th>\n",
       "      <th>Digestive Diseases</th>\n",
       "      <th>Fire, Heat, and Hot Substances</th>\n",
       "      <th>Acute Hepatitis</th>\n",
       "      <th>Region</th>\n",
       "      <th>Income group</th>\n",
       "      <th>_merge</th>\n",
       "      <th>Income code</th>\n",
       "    </tr>\n",
       "  </thead>\n",
       "  <tbody>\n",
       "    <tr>\n",
       "      <th>0</th>\n",
       "      <td>Afghanistan</td>\n",
       "      <td>AFG</td>\n",
       "      <td>1990</td>\n",
       "      <td>2159</td>\n",
       "      <td>1116</td>\n",
       "      <td>371</td>\n",
       "      <td>2087</td>\n",
       "      <td>93</td>\n",
       "      <td>1370</td>\n",
       "      <td>1538</td>\n",
       "      <td>2655</td>\n",
       "      <td>34</td>\n",
       "      <td>93</td>\n",
       "      <td>4661</td>\n",
       "      <td>44899</td>\n",
       "      <td>23741</td>\n",
       "      <td>15612</td>\n",
       "      <td>72</td>\n",
       "      <td>696</td>\n",
       "      <td>0</td>\n",
       "      <td>4235</td>\n",
       "      <td>175</td>\n",
       "      <td>11580</td>\n",
       "      <td>1490</td>\n",
       "      <td>2108</td>\n",
       "      <td>3709</td>\n",
       "      <td>338</td>\n",
       "      <td>2054</td>\n",
       "      <td>4154</td>\n",
       "      <td>5945</td>\n",
       "      <td>2673</td>\n",
       "      <td>5005</td>\n",
       "      <td>323</td>\n",
       "      <td>2985</td>\n",
       "      <td>South Asia</td>\n",
       "      <td>Low income</td>\n",
       "      <td>both</td>\n",
       "      <td>1</td>\n",
       "    </tr>\n",
       "    <tr>\n",
       "      <th>1</th>\n",
       "      <td>Afghanistan</td>\n",
       "      <td>AFG</td>\n",
       "      <td>1991</td>\n",
       "      <td>2218</td>\n",
       "      <td>1136</td>\n",
       "      <td>374</td>\n",
       "      <td>2153</td>\n",
       "      <td>189</td>\n",
       "      <td>1391</td>\n",
       "      <td>2001</td>\n",
       "      <td>2885</td>\n",
       "      <td>41</td>\n",
       "      <td>102</td>\n",
       "      <td>4743</td>\n",
       "      <td>45492</td>\n",
       "      <td>24504</td>\n",
       "      <td>17128</td>\n",
       "      <td>75</td>\n",
       "      <td>751</td>\n",
       "      <td>1347</td>\n",
       "      <td>4927</td>\n",
       "      <td>113</td>\n",
       "      <td>11796</td>\n",
       "      <td>3370</td>\n",
       "      <td>2120</td>\n",
       "      <td>3724</td>\n",
       "      <td>351</td>\n",
       "      <td>2119</td>\n",
       "      <td>4472</td>\n",
       "      <td>6050</td>\n",
       "      <td>2728</td>\n",
       "      <td>5120</td>\n",
       "      <td>332</td>\n",
       "      <td>3092</td>\n",
       "      <td>South Asia</td>\n",
       "      <td>Low income</td>\n",
       "      <td>both</td>\n",
       "      <td>1</td>\n",
       "    </tr>\n",
       "    <tr>\n",
       "      <th>2</th>\n",
       "      <td>Afghanistan</td>\n",
       "      <td>AFG</td>\n",
       "      <td>1992</td>\n",
       "      <td>2475</td>\n",
       "      <td>1162</td>\n",
       "      <td>378</td>\n",
       "      <td>2441</td>\n",
       "      <td>239</td>\n",
       "      <td>1514</td>\n",
       "      <td>2299</td>\n",
       "      <td>3315</td>\n",
       "      <td>48</td>\n",
       "      <td>118</td>\n",
       "      <td>4976</td>\n",
       "      <td>46557</td>\n",
       "      <td>27404</td>\n",
       "      <td>20060</td>\n",
       "      <td>80</td>\n",
       "      <td>855</td>\n",
       "      <td>614</td>\n",
       "      <td>6123</td>\n",
       "      <td>38</td>\n",
       "      <td>12218</td>\n",
       "      <td>4344</td>\n",
       "      <td>2153</td>\n",
       "      <td>3776</td>\n",
       "      <td>386</td>\n",
       "      <td>2404</td>\n",
       "      <td>5106</td>\n",
       "      <td>6223</td>\n",
       "      <td>2830</td>\n",
       "      <td>5335</td>\n",
       "      <td>360</td>\n",
       "      <td>3325</td>\n",
       "      <td>South Asia</td>\n",
       "      <td>Low income</td>\n",
       "      <td>both</td>\n",
       "      <td>1</td>\n",
       "    </tr>\n",
       "    <tr>\n",
       "      <th>3</th>\n",
       "      <td>Afghanistan</td>\n",
       "      <td>AFG</td>\n",
       "      <td>1993</td>\n",
       "      <td>2812</td>\n",
       "      <td>1187</td>\n",
       "      <td>384</td>\n",
       "      <td>2837</td>\n",
       "      <td>108</td>\n",
       "      <td>1687</td>\n",
       "      <td>2589</td>\n",
       "      <td>3671</td>\n",
       "      <td>56</td>\n",
       "      <td>132</td>\n",
       "      <td>5254</td>\n",
       "      <td>47951</td>\n",
       "      <td>31116</td>\n",
       "      <td>22335</td>\n",
       "      <td>85</td>\n",
       "      <td>943</td>\n",
       "      <td>225</td>\n",
       "      <td>8174</td>\n",
       "      <td>41</td>\n",
       "      <td>12634</td>\n",
       "      <td>4096</td>\n",
       "      <td>2195</td>\n",
       "      <td>3862</td>\n",
       "      <td>425</td>\n",
       "      <td>2797</td>\n",
       "      <td>5681</td>\n",
       "      <td>6445</td>\n",
       "      <td>2943</td>\n",
       "      <td>5568</td>\n",
       "      <td>396</td>\n",
       "      <td>3601</td>\n",
       "      <td>South Asia</td>\n",
       "      <td>Low income</td>\n",
       "      <td>both</td>\n",
       "      <td>1</td>\n",
       "    </tr>\n",
       "    <tr>\n",
       "      <th>4</th>\n",
       "      <td>Afghanistan</td>\n",
       "      <td>AFG</td>\n",
       "      <td>1994</td>\n",
       "      <td>3027</td>\n",
       "      <td>1211</td>\n",
       "      <td>391</td>\n",
       "      <td>3081</td>\n",
       "      <td>211</td>\n",
       "      <td>1809</td>\n",
       "      <td>2849</td>\n",
       "      <td>3863</td>\n",
       "      <td>63</td>\n",
       "      <td>142</td>\n",
       "      <td>5470</td>\n",
       "      <td>49308</td>\n",
       "      <td>33390</td>\n",
       "      <td>23288</td>\n",
       "      <td>88</td>\n",
       "      <td>993</td>\n",
       "      <td>160</td>\n",
       "      <td>8215</td>\n",
       "      <td>44</td>\n",
       "      <td>12914</td>\n",
       "      <td>8959</td>\n",
       "      <td>2231</td>\n",
       "      <td>3932</td>\n",
       "      <td>451</td>\n",
       "      <td>3038</td>\n",
       "      <td>6001</td>\n",
       "      <td>6664</td>\n",
       "      <td>3027</td>\n",
       "      <td>5739</td>\n",
       "      <td>420</td>\n",
       "      <td>3816</td>\n",
       "      <td>South Asia</td>\n",
       "      <td>Low income</td>\n",
       "      <td>both</td>\n",
       "      <td>1</td>\n",
       "    </tr>\n",
       "  </tbody>\n",
       "</table>\n",
       "</div>"
      ],
      "text/plain": [
       "  Country/Territory Code  Year  Meningitis  \\\n",
       "0       Afghanistan  AFG  1990        2159   \n",
       "1       Afghanistan  AFG  1991        2218   \n",
       "2       Afghanistan  AFG  1992        2475   \n",
       "3       Afghanistan  AFG  1993        2812   \n",
       "4       Afghanistan  AFG  1994        3027   \n",
       "\n",
       "   Alzheimer's Disease and Other Dementias  Parkinson's Disease  \\\n",
       "0                                     1116                  371   \n",
       "1                                     1136                  374   \n",
       "2                                     1162                  378   \n",
       "3                                     1187                  384   \n",
       "4                                     1211                  391   \n",
       "\n",
       "   Nutritional Deficiencies  Malaria  Drowning  Interpersonal Violence  \\\n",
       "0                      2087       93      1370                    1538   \n",
       "1                      2153      189      1391                    2001   \n",
       "2                      2441      239      1514                    2299   \n",
       "3                      2837      108      1687                    2589   \n",
       "4                      3081      211      1809                    2849   \n",
       "\n",
       "   Maternal Disorders  HIV/AIDS  Drug Use Disorders  Tuberculosis  \\\n",
       "0                2655        34                  93          4661   \n",
       "1                2885        41                 102          4743   \n",
       "2                3315        48                 118          4976   \n",
       "3                3671        56                 132          5254   \n",
       "4                3863        63                 142          5470   \n",
       "\n",
       "   Cardiovascular Diseases  Lower Respiratory Infections  Neonatal Disorders  \\\n",
       "0                    44899                         23741               15612   \n",
       "1                    45492                         24504               17128   \n",
       "2                    46557                         27404               20060   \n",
       "3                    47951                         31116               22335   \n",
       "4                    49308                         33390               23288   \n",
       "\n",
       "   Alcohol Use Disorders  Self-harm  Exposure to Forces of Nature  \\\n",
       "0                     72        696                             0   \n",
       "1                     75        751                          1347   \n",
       "2                     80        855                           614   \n",
       "3                     85        943                           225   \n",
       "4                     88        993                           160   \n",
       "\n",
       "   Diarrheal Diseases  Environmental Heat and Cold Exposure  Neoplasms  \\\n",
       "0                4235                                   175      11580   \n",
       "1                4927                                   113      11796   \n",
       "2                6123                                    38      12218   \n",
       "3                8174                                    41      12634   \n",
       "4                8215                                    44      12914   \n",
       "\n",
       "   Conflict and Terrorism  Diabetes Mellitus  Chronic Kidney Disease  \\\n",
       "0                    1490               2108                    3709   \n",
       "1                    3370               2120                    3724   \n",
       "2                    4344               2153                    3776   \n",
       "3                    4096               2195                    3862   \n",
       "4                    8959               2231                    3932   \n",
       "\n",
       "   Poisonings  Protein-Energy Malnutrition  Road Injuries  \\\n",
       "0         338                         2054           4154   \n",
       "1         351                         2119           4472   \n",
       "2         386                         2404           5106   \n",
       "3         425                         2797           5681   \n",
       "4         451                         3038           6001   \n",
       "\n",
       "   Chronic Respiratory Diseases  Cirrhosis and Other Chronic Liver Diseases  \\\n",
       "0                          5945                                        2673   \n",
       "1                          6050                                        2728   \n",
       "2                          6223                                        2830   \n",
       "3                          6445                                        2943   \n",
       "4                          6664                                        3027   \n",
       "\n",
       "   Digestive Diseases  Fire, Heat, and Hot Substances  Acute Hepatitis  \\\n",
       "0                5005                             323             2985   \n",
       "1                5120                             332             3092   \n",
       "2                5335                             360             3325   \n",
       "3                5568                             396             3601   \n",
       "4                5739                             420             3816   \n",
       "\n",
       "       Region Income group _merge  Income code  \n",
       "0  South Asia   Low income   both            1  \n",
       "1  South Asia   Low income   both            1  \n",
       "2  South Asia   Low income   both            1  \n",
       "3  South Asia   Low income   both            1  \n",
       "4  South Asia   Low income   both            1  "
      ]
     },
     "execution_count": 5,
     "metadata": {},
     "output_type": "execute_result"
    }
   ],
   "source": [
    "df.head()"
   ]
  },
  {
   "cell_type": "code",
   "execution_count": 6,
   "id": "34b8e4dc",
   "metadata": {},
   "outputs": [
    {
     "data": {
      "text/plain": [
       "(6030, 38)"
      ]
     },
     "execution_count": 6,
     "metadata": {},
     "output_type": "execute_result"
    }
   ],
   "source": [
    "df.shape"
   ]
  },
  {
   "cell_type": "markdown",
   "id": "c07525ab",
   "metadata": {},
   "source": [
    "## 2. Subsetting, wrangling, and cleaning time-series data"
   ]
  },
  {
   "cell_type": "markdown",
   "id": "8185b408",
   "metadata": {},
   "source": [
    "### Create subset for India's maternal disorders"
   ]
  },
  {
   "cell_type": "code",
   "execution_count": 7,
   "id": "83218085",
   "metadata": {},
   "outputs": [],
   "source": [
    "df_india_sub_1 = df.loc[(df['Code'] == 'IND')]"
   ]
  },
  {
   "cell_type": "code",
   "execution_count": 8,
   "id": "fa457ce1",
   "metadata": {},
   "outputs": [
    {
     "data": {
      "text/html": [
       "<div>\n",
       "<style scoped>\n",
       "    .dataframe tbody tr th:only-of-type {\n",
       "        vertical-align: middle;\n",
       "    }\n",
       "\n",
       "    .dataframe tbody tr th {\n",
       "        vertical-align: top;\n",
       "    }\n",
       "\n",
       "    .dataframe thead th {\n",
       "        text-align: right;\n",
       "    }\n",
       "</style>\n",
       "<table border=\"1\" class=\"dataframe\">\n",
       "  <thead>\n",
       "    <tr style=\"text-align: right;\">\n",
       "      <th></th>\n",
       "      <th>Country/Territory</th>\n",
       "      <th>Code</th>\n",
       "      <th>Year</th>\n",
       "      <th>Meningitis</th>\n",
       "      <th>Alzheimer's Disease and Other Dementias</th>\n",
       "      <th>Parkinson's Disease</th>\n",
       "      <th>Nutritional Deficiencies</th>\n",
       "      <th>Malaria</th>\n",
       "      <th>Drowning</th>\n",
       "      <th>Interpersonal Violence</th>\n",
       "      <th>Maternal Disorders</th>\n",
       "      <th>HIV/AIDS</th>\n",
       "      <th>Drug Use Disorders</th>\n",
       "      <th>Tuberculosis</th>\n",
       "      <th>Cardiovascular Diseases</th>\n",
       "      <th>Lower Respiratory Infections</th>\n",
       "      <th>Neonatal Disorders</th>\n",
       "      <th>Alcohol Use Disorders</th>\n",
       "      <th>Self-harm</th>\n",
       "      <th>Exposure to Forces of Nature</th>\n",
       "      <th>Diarrheal Diseases</th>\n",
       "      <th>Environmental Heat and Cold Exposure</th>\n",
       "      <th>Neoplasms</th>\n",
       "      <th>Conflict and Terrorism</th>\n",
       "      <th>Diabetes Mellitus</th>\n",
       "      <th>Chronic Kidney Disease</th>\n",
       "      <th>Poisonings</th>\n",
       "      <th>Protein-Energy Malnutrition</th>\n",
       "      <th>Road Injuries</th>\n",
       "      <th>Chronic Respiratory Diseases</th>\n",
       "      <th>Cirrhosis and Other Chronic Liver Diseases</th>\n",
       "      <th>Digestive Diseases</th>\n",
       "      <th>Fire, Heat, and Hot Substances</th>\n",
       "      <th>Acute Hepatitis</th>\n",
       "      <th>Region</th>\n",
       "      <th>Income group</th>\n",
       "      <th>_merge</th>\n",
       "      <th>Income code</th>\n",
       "    </tr>\n",
       "  </thead>\n",
       "  <tbody>\n",
       "    <tr>\n",
       "      <th>2400</th>\n",
       "      <td>India</td>\n",
       "      <td>IND</td>\n",
       "      <td>2007</td>\n",
       "      <td>62224</td>\n",
       "      <td>53407</td>\n",
       "      <td>26269</td>\n",
       "      <td>67671</td>\n",
       "      <td>68053</td>\n",
       "      <td>67595</td>\n",
       "      <td>44087</td>\n",
       "      <td>69323</td>\n",
       "      <td>163270</td>\n",
       "      <td>6092</td>\n",
       "      <td>490850</td>\n",
       "      <td>1812605</td>\n",
       "      <td>525259</td>\n",
       "      <td>692363</td>\n",
       "      <td>18619</td>\n",
       "      <td>195456</td>\n",
       "      <td>2051</td>\n",
       "      <td>849219</td>\n",
       "      <td>10811</td>\n",
       "      <td>601219</td>\n",
       "      <td>2269</td>\n",
       "      <td>171589</td>\n",
       "      <td>163299</td>\n",
       "      <td>5556</td>\n",
       "      <td>47214</td>\n",
       "      <td>190881</td>\n",
       "      <td>875894</td>\n",
       "      <td>230556</td>\n",
       "      <td>415019</td>\n",
       "      <td>24467</td>\n",
       "      <td>61028</td>\n",
       "      <td>South Asia</td>\n",
       "      <td>Lower middle income</td>\n",
       "      <td>both</td>\n",
       "      <td>2</td>\n",
       "    </tr>\n",
       "    <tr>\n",
       "      <th>2401</th>\n",
       "      <td>India</td>\n",
       "      <td>IND</td>\n",
       "      <td>2008</td>\n",
       "      <td>60843</td>\n",
       "      <td>56488</td>\n",
       "      <td>27779</td>\n",
       "      <td>63747</td>\n",
       "      <td>62028</td>\n",
       "      <td>67494</td>\n",
       "      <td>44464</td>\n",
       "      <td>66685</td>\n",
       "      <td>155231</td>\n",
       "      <td>6120</td>\n",
       "      <td>492343</td>\n",
       "      <td>1897232</td>\n",
       "      <td>521542</td>\n",
       "      <td>679052</td>\n",
       "      <td>19487</td>\n",
       "      <td>194152</td>\n",
       "      <td>1738</td>\n",
       "      <td>845116</td>\n",
       "      <td>10714</td>\n",
       "      <td>625818</td>\n",
       "      <td>2580</td>\n",
       "      <td>179626</td>\n",
       "      <td>168171</td>\n",
       "      <td>5573</td>\n",
       "      <td>43721</td>\n",
       "      <td>199985</td>\n",
       "      <td>913387</td>\n",
       "      <td>238390</td>\n",
       "      <td>424444</td>\n",
       "      <td>24771</td>\n",
       "      <td>60371</td>\n",
       "      <td>South Asia</td>\n",
       "      <td>Lower middle income</td>\n",
       "      <td>both</td>\n",
       "      <td>2</td>\n",
       "    </tr>\n",
       "    <tr>\n",
       "      <th>2402</th>\n",
       "      <td>India</td>\n",
       "      <td>IND</td>\n",
       "      <td>2009</td>\n",
       "      <td>58449</td>\n",
       "      <td>59418</td>\n",
       "      <td>27243</td>\n",
       "      <td>58734</td>\n",
       "      <td>58617</td>\n",
       "      <td>65811</td>\n",
       "      <td>43077</td>\n",
       "      <td>63708</td>\n",
       "      <td>142325</td>\n",
       "      <td>6216</td>\n",
       "      <td>474490</td>\n",
       "      <td>1898640</td>\n",
       "      <td>500924</td>\n",
       "      <td>663701</td>\n",
       "      <td>19473</td>\n",
       "      <td>190547</td>\n",
       "      <td>1773</td>\n",
       "      <td>802659</td>\n",
       "      <td>10732</td>\n",
       "      <td>634222</td>\n",
       "      <td>2319</td>\n",
       "      <td>177064</td>\n",
       "      <td>165221</td>\n",
       "      <td>5323</td>\n",
       "      <td>39887</td>\n",
       "      <td>202133</td>\n",
       "      <td>890411</td>\n",
       "      <td>236152</td>\n",
       "      <td>415534</td>\n",
       "      <td>24568</td>\n",
       "      <td>57677</td>\n",
       "      <td>South Asia</td>\n",
       "      <td>Lower middle income</td>\n",
       "      <td>both</td>\n",
       "      <td>2</td>\n",
       "    </tr>\n",
       "    <tr>\n",
       "      <th>2403</th>\n",
       "      <td>India</td>\n",
       "      <td>IND</td>\n",
       "      <td>2012</td>\n",
       "      <td>53433</td>\n",
       "      <td>75330</td>\n",
       "      <td>30619</td>\n",
       "      <td>51001</td>\n",
       "      <td>42686</td>\n",
       "      <td>66282</td>\n",
       "      <td>39520</td>\n",
       "      <td>55026</td>\n",
       "      <td>101377</td>\n",
       "      <td>6023</td>\n",
       "      <td>461592</td>\n",
       "      <td>2119847</td>\n",
       "      <td>480048</td>\n",
       "      <td>614052</td>\n",
       "      <td>20471</td>\n",
       "      <td>198142</td>\n",
       "      <td>335</td>\n",
       "      <td>761001</td>\n",
       "      <td>11672</td>\n",
       "      <td>707505</td>\n",
       "      <td>1074</td>\n",
       "      <td>207229</td>\n",
       "      <td>178139</td>\n",
       "      <td>4772</td>\n",
       "      <td>32879</td>\n",
       "      <td>218869</td>\n",
       "      <td>958036</td>\n",
       "      <td>247920</td>\n",
       "      <td>422871</td>\n",
       "      <td>24864</td>\n",
       "      <td>53069</td>\n",
       "      <td>South Asia</td>\n",
       "      <td>Lower middle income</td>\n",
       "      <td>both</td>\n",
       "      <td>2</td>\n",
       "    </tr>\n",
       "    <tr>\n",
       "      <th>2404</th>\n",
       "      <td>India</td>\n",
       "      <td>IND</td>\n",
       "      <td>2013</td>\n",
       "      <td>52065</td>\n",
       "      <td>84796</td>\n",
       "      <td>34226</td>\n",
       "      <td>47070</td>\n",
       "      <td>32921</td>\n",
       "      <td>63122</td>\n",
       "      <td>39234</td>\n",
       "      <td>53088</td>\n",
       "      <td>91805</td>\n",
       "      <td>6495</td>\n",
       "      <td>466722</td>\n",
       "      <td>2200623</td>\n",
       "      <td>485209</td>\n",
       "      <td>604279</td>\n",
       "      <td>20511</td>\n",
       "      <td>192867</td>\n",
       "      <td>6562</td>\n",
       "      <td>738243</td>\n",
       "      <td>12197</td>\n",
       "      <td>739345</td>\n",
       "      <td>624</td>\n",
       "      <td>218827</td>\n",
       "      <td>185457</td>\n",
       "      <td>4617</td>\n",
       "      <td>29696</td>\n",
       "      <td>213635</td>\n",
       "      <td>1013921</td>\n",
       "      <td>246916</td>\n",
       "      <td>425083</td>\n",
       "      <td>24815</td>\n",
       "      <td>47702</td>\n",
       "      <td>South Asia</td>\n",
       "      <td>Lower middle income</td>\n",
       "      <td>both</td>\n",
       "      <td>2</td>\n",
       "    </tr>\n",
       "  </tbody>\n",
       "</table>\n",
       "</div>"
      ],
      "text/plain": [
       "     Country/Territory Code  Year  Meningitis  \\\n",
       "2400             India  IND  2007       62224   \n",
       "2401             India  IND  2008       60843   \n",
       "2402             India  IND  2009       58449   \n",
       "2403             India  IND  2012       53433   \n",
       "2404             India  IND  2013       52065   \n",
       "\n",
       "      Alzheimer's Disease and Other Dementias  Parkinson's Disease  \\\n",
       "2400                                    53407                26269   \n",
       "2401                                    56488                27779   \n",
       "2402                                    59418                27243   \n",
       "2403                                    75330                30619   \n",
       "2404                                    84796                34226   \n",
       "\n",
       "      Nutritional Deficiencies  Malaria  Drowning  Interpersonal Violence  \\\n",
       "2400                     67671    68053     67595                   44087   \n",
       "2401                     63747    62028     67494                   44464   \n",
       "2402                     58734    58617     65811                   43077   \n",
       "2403                     51001    42686     66282                   39520   \n",
       "2404                     47070    32921     63122                   39234   \n",
       "\n",
       "      Maternal Disorders  HIV/AIDS  Drug Use Disorders  Tuberculosis  \\\n",
       "2400               69323    163270                6092        490850   \n",
       "2401               66685    155231                6120        492343   \n",
       "2402               63708    142325                6216        474490   \n",
       "2403               55026    101377                6023        461592   \n",
       "2404               53088     91805                6495        466722   \n",
       "\n",
       "      Cardiovascular Diseases  Lower Respiratory Infections  \\\n",
       "2400                  1812605                        525259   \n",
       "2401                  1897232                        521542   \n",
       "2402                  1898640                        500924   \n",
       "2403                  2119847                        480048   \n",
       "2404                  2200623                        485209   \n",
       "\n",
       "      Neonatal Disorders  Alcohol Use Disorders  Self-harm  \\\n",
       "2400              692363                  18619     195456   \n",
       "2401              679052                  19487     194152   \n",
       "2402              663701                  19473     190547   \n",
       "2403              614052                  20471     198142   \n",
       "2404              604279                  20511     192867   \n",
       "\n",
       "      Exposure to Forces of Nature  Diarrheal Diseases  \\\n",
       "2400                          2051              849219   \n",
       "2401                          1738              845116   \n",
       "2402                          1773              802659   \n",
       "2403                           335              761001   \n",
       "2404                          6562              738243   \n",
       "\n",
       "      Environmental Heat and Cold Exposure  Neoplasms  Conflict and Terrorism  \\\n",
       "2400                                 10811     601219                    2269   \n",
       "2401                                 10714     625818                    2580   \n",
       "2402                                 10732     634222                    2319   \n",
       "2403                                 11672     707505                    1074   \n",
       "2404                                 12197     739345                     624   \n",
       "\n",
       "      Diabetes Mellitus  Chronic Kidney Disease  Poisonings  \\\n",
       "2400             171589                  163299        5556   \n",
       "2401             179626                  168171        5573   \n",
       "2402             177064                  165221        5323   \n",
       "2403             207229                  178139        4772   \n",
       "2404             218827                  185457        4617   \n",
       "\n",
       "      Protein-Energy Malnutrition  Road Injuries  \\\n",
       "2400                        47214         190881   \n",
       "2401                        43721         199985   \n",
       "2402                        39887         202133   \n",
       "2403                        32879         218869   \n",
       "2404                        29696         213635   \n",
       "\n",
       "      Chronic Respiratory Diseases  \\\n",
       "2400                        875894   \n",
       "2401                        913387   \n",
       "2402                        890411   \n",
       "2403                        958036   \n",
       "2404                       1013921   \n",
       "\n",
       "      Cirrhosis and Other Chronic Liver Diseases  Digestive Diseases  \\\n",
       "2400                                      230556              415019   \n",
       "2401                                      238390              424444   \n",
       "2402                                      236152              415534   \n",
       "2403                                      247920              422871   \n",
       "2404                                      246916              425083   \n",
       "\n",
       "      Fire, Heat, and Hot Substances  Acute Hepatitis      Region  \\\n",
       "2400                           24467            61028  South Asia   \n",
       "2401                           24771            60371  South Asia   \n",
       "2402                           24568            57677  South Asia   \n",
       "2403                           24864            53069  South Asia   \n",
       "2404                           24815            47702  South Asia   \n",
       "\n",
       "             Income group _merge  Income code  \n",
       "2400  Lower middle income   both            2  \n",
       "2401  Lower middle income   both            2  \n",
       "2402  Lower middle income   both            2  \n",
       "2403  Lower middle income   both            2  \n",
       "2404  Lower middle income   both            2  "
      ]
     },
     "execution_count": 8,
     "metadata": {},
     "output_type": "execute_result"
    }
   ],
   "source": [
    "df_india_sub_1.head()"
   ]
  },
  {
   "cell_type": "code",
   "execution_count": 9,
   "id": "0f3a1b03",
   "metadata": {
    "scrolled": true
   },
   "outputs": [
    {
     "data": {
      "text/plain": [
       "(30, 38)"
      ]
     },
     "execution_count": 9,
     "metadata": {},
     "output_type": "execute_result"
    }
   ],
   "source": [
    "df_india_sub_1.shape"
   ]
  },
  {
   "cell_type": "code",
   "execution_count": 10,
   "id": "8f848844",
   "metadata": {},
   "outputs": [],
   "source": [
    "# Create a subset for India's maternal disorders\n",
    "\n",
    "df_india_sub_1_filtered = df_india_sub_1.filter(['Year','Maternal Disorders'], axis=1)"
   ]
  },
  {
   "cell_type": "code",
   "execution_count": 11,
   "id": "ada40a18",
   "metadata": {
    "scrolled": true
   },
   "outputs": [
    {
     "data": {
      "text/html": [
       "<div>\n",
       "<style scoped>\n",
       "    .dataframe tbody tr th:only-of-type {\n",
       "        vertical-align: middle;\n",
       "    }\n",
       "\n",
       "    .dataframe tbody tr th {\n",
       "        vertical-align: top;\n",
       "    }\n",
       "\n",
       "    .dataframe thead th {\n",
       "        text-align: right;\n",
       "    }\n",
       "</style>\n",
       "<table border=\"1\" class=\"dataframe\">\n",
       "  <thead>\n",
       "    <tr style=\"text-align: right;\">\n",
       "      <th></th>\n",
       "      <th>Year</th>\n",
       "      <th>Maternal Disorders</th>\n",
       "    </tr>\n",
       "  </thead>\n",
       "  <tbody>\n",
       "    <tr>\n",
       "      <th>2400</th>\n",
       "      <td>2007</td>\n",
       "      <td>69323</td>\n",
       "    </tr>\n",
       "    <tr>\n",
       "      <th>2401</th>\n",
       "      <td>2008</td>\n",
       "      <td>66685</td>\n",
       "    </tr>\n",
       "    <tr>\n",
       "      <th>2402</th>\n",
       "      <td>2009</td>\n",
       "      <td>63708</td>\n",
       "    </tr>\n",
       "    <tr>\n",
       "      <th>2403</th>\n",
       "      <td>2012</td>\n",
       "      <td>55026</td>\n",
       "    </tr>\n",
       "    <tr>\n",
       "      <th>2404</th>\n",
       "      <td>2013</td>\n",
       "      <td>53088</td>\n",
       "    </tr>\n",
       "  </tbody>\n",
       "</table>\n",
       "</div>"
      ],
      "text/plain": [
       "      Year  Maternal Disorders\n",
       "2400  2007               69323\n",
       "2401  2008               66685\n",
       "2402  2009               63708\n",
       "2403  2012               55026\n",
       "2404  2013               53088"
      ]
     },
     "execution_count": 11,
     "metadata": {},
     "output_type": "execute_result"
    }
   ],
   "source": [
    "df_india_sub_1_filtered.head()"
   ]
  },
  {
   "cell_type": "code",
   "execution_count": 12,
   "id": "50f7f9ae",
   "metadata": {},
   "outputs": [
    {
     "data": {
      "text/plain": [
       "(30, 2)"
      ]
     },
     "execution_count": 12,
     "metadata": {},
     "output_type": "execute_result"
    }
   ],
   "source": [
    "df_india_sub_1_filtered.shape"
   ]
  },
  {
   "cell_type": "code",
   "execution_count": 27,
   "id": "e3445206",
   "metadata": {
    "scrolled": false
   },
   "outputs": [
    {
     "data": {
      "text/html": [
       "<div>\n",
       "<style scoped>\n",
       "    .dataframe tbody tr th:only-of-type {\n",
       "        vertical-align: middle;\n",
       "    }\n",
       "\n",
       "    .dataframe tbody tr th {\n",
       "        vertical-align: top;\n",
       "    }\n",
       "\n",
       "    .dataframe thead th {\n",
       "        text-align: right;\n",
       "    }\n",
       "</style>\n",
       "<table border=\"1\" class=\"dataframe\">\n",
       "  <thead>\n",
       "    <tr style=\"text-align: right;\">\n",
       "      <th></th>\n",
       "      <th>Maternal Disorders</th>\n",
       "    </tr>\n",
       "    <tr>\n",
       "      <th>datetime</th>\n",
       "      <th></th>\n",
       "    </tr>\n",
       "  </thead>\n",
       "  <tbody>\n",
       "    <tr>\n",
       "      <th>2007-01-01</th>\n",
       "      <td>69323</td>\n",
       "    </tr>\n",
       "    <tr>\n",
       "      <th>2008-01-01</th>\n",
       "      <td>66685</td>\n",
       "    </tr>\n",
       "    <tr>\n",
       "      <th>2009-01-01</th>\n",
       "      <td>63708</td>\n",
       "    </tr>\n",
       "    <tr>\n",
       "      <th>2012-01-01</th>\n",
       "      <td>55026</td>\n",
       "    </tr>\n",
       "    <tr>\n",
       "      <th>2013-01-01</th>\n",
       "      <td>53088</td>\n",
       "    </tr>\n",
       "  </tbody>\n",
       "</table>\n",
       "</div>"
      ],
      "text/plain": [
       "            Maternal Disorders\n",
       "datetime                      \n",
       "2007-01-01               69323\n",
       "2008-01-01               66685\n",
       "2009-01-01               63708\n",
       "2012-01-01               55026\n",
       "2013-01-01               53088"
      ]
     },
     "execution_count": 27,
     "metadata": {},
     "output_type": "execute_result"
    }
   ],
   "source": [
    "# Set the 'Year' column as the index\n",
    "\n",
    "from datetime import datetime\n",
    "\n",
    "df_india_sub_1_filtered['datetime'] = pd.to_datetime(df_india_sub_1_filtered['Year'], format='%Y') # Create a datetime column from 'Year'\n",
    "df_india_sub_1_filtered = df_india_sub_1_filtered.set_index('datetime') # Set the datetime as the index of the dataframe\n",
    "df_india_sub_1_filtered.drop(['Year'], axis=1, inplace = True) # Drop the 'Year' column\n",
    "df_india_sub_1_filtered.head()"
   ]
  },
  {
   "cell_type": "code",
   "execution_count": 33,
   "id": "77a1adac",
   "metadata": {},
   "outputs": [],
   "source": [
    "# Sort the datetime in ascending order\n",
    "\n",
    "df_india_sub_1_filtered.sort_index(inplace=True)"
   ]
  },
  {
   "cell_type": "code",
   "execution_count": 34,
   "id": "cf71139f",
   "metadata": {
    "scrolled": true
   },
   "outputs": [
    {
     "data": {
      "text/plain": [
       "[<matplotlib.lines.Line2D at 0x27f8d1d32e0>]"
      ]
     },
     "execution_count": 34,
     "metadata": {},
     "output_type": "execute_result"
    },
    {
     "data": {
      "image/png": "[encoded data removed]",
      "text/plain": [
       "<Figure size 1500x500 with 1 Axes>"
      ]
     },
     "metadata": {
      "needs_background": "light"
     },
     "output_type": "display_data"
    }
   ],
   "source": [
    "# Plot the new data set\n",
    "\n",
    "plt.figure(figsize=(15,5), dpi=100)\n",
    "plt.plot(df_india_sub_1_filtered)"
   ]
  },
  {
   "cell_type": "code",
   "execution_count": 35,
   "id": "f1294106",
   "metadata": {},
   "outputs": [
    {
     "data": {
      "text/plain": [
       "Maternal Disorders    0\n",
       "dtype: int64"
      ]
     },
     "execution_count": 35,
     "metadata": {},
     "output_type": "execute_result"
    }
   ],
   "source": [
    "# Check for missing values\n",
    "\n",
    "df_india_sub_1_filtered.isnull().sum() "
   ]
  },
  {
   "cell_type": "markdown",
   "id": "73c67884",
   "metadata": {},
   "source": [
    "#### There are no missing values."
   ]
  },
  {
   "cell_type": "code",
   "execution_count": 36,
   "id": "cd8aed76",
   "metadata": {},
   "outputs": [
    {
     "data": {
      "text/plain": [
       "0"
      ]
     },
     "execution_count": 36,
     "metadata": {},
     "output_type": "execute_result"
    }
   ],
   "source": [
    "# Check for duplicates\n",
    "\n",
    "dups = df_india_sub_1_filtered.duplicated()\n",
    "dups.sum()"
   ]
  },
  {
   "cell_type": "markdown",
   "id": "4ec943fa",
   "metadata": {},
   "source": [
    "#### There are no duplicates."
   ]
  },
  {
   "cell_type": "markdown",
   "id": "b1002bb2",
   "metadata": {},
   "source": [
    "## 3. Time-series analysis: decomposition"
   ]
  },
  {
   "cell_type": "code",
   "execution_count": 37,
   "id": "38468374",
   "metadata": {},
   "outputs": [],
   "source": [
    "# Decompose the time series using an additive model\n",
    "\n",
    "decomposition = sm.tsa.seasonal_decompose(df_india_sub_1_filtered, model='additive')"
   ]
  },
  {
   "cell_type": "code",
   "execution_count": 38,
   "id": "370024ef",
   "metadata": {},
   "outputs": [],
   "source": [
    "from pylab import rcParams # This will define a fixed size for all special charts\n",
    "\n",
    "rcParams['figure.figsize'] = 18, 7"
   ]
  },
  {
   "cell_type": "code",
   "execution_count": 39,
   "id": "3690e5c1",
   "metadata": {},
   "outputs": [
    {
     "data": {
      "image/png": "[encoded data removed]",
      "text/plain": [
       "<Figure size 1296x504 with 4 Axes>"
      ]
     },
     "metadata": {
      "needs_background": "light"
     },
     "output_type": "display_data"
    }
   ],
   "source": [
    "# Plot the separate components\n",
    "\n",
    "decomposition.plot()\n",
    "plt.show()"
   ]
  },
  {
   "cell_type": "markdown",
   "id": "ae2562e0",
   "metadata": {},
   "source": [
    "#### The trend in the chart above gradually decreases in a linear fashion. There is no seasonality or noise."
   ]
  },
  {
   "cell_type": "markdown",
   "id": "35ba4196",
   "metadata": {},
   "source": [
    "## 4. Testing for stationarity"
   ]
  },
  {
   "cell_type": "code",
   "execution_count": 40,
   "id": "ac5c7c8c",
   "metadata": {},
   "outputs": [
    {
     "name": "stdout",
     "output_type": "stream",
     "text": [
      "Dickey-Fuller Stationarity test:\n",
      "Test Statistic                 -0.576820\n",
      "p-value                         0.876134\n",
      "Number of Lags Used             1.000000\n",
      "Number of Observations Used    28.000000\n",
      "Critical Value (1%)            -3.688926\n",
      "Critical Value (5%)            -2.971989\n",
      "Critical Value (10%)           -2.625296\n",
      "dtype: float64\n"
     ]
    }
   ],
   "source": [
    "from statsmodels.tsa.stattools import adfuller\n",
    "\n",
    "def dickey_fuller(timeseries): # Define the function\n",
    "    # Perform the Dickey-Fuller test:\n",
    "    print ('Dickey-Fuller Stationarity test:')\n",
    "    test = adfuller(timeseries, autolag='AIC')\n",
    "    result = pd.Series(test[0:4], index=['Test Statistic','p-value','Number of Lags Used','Number of Observations Used'])\n",
    "    for key,value in test[4].items():\n",
    "       result['Critical Value (%s)'%key] = value\n",
    "    print (result)\n",
    "\n",
    "# Apply the test using the function on the time series\n",
    "dickey_fuller(df_india_sub_1_filtered['Maternal Disorders'])"
   ]
  },
  {
   "cell_type": "markdown",
   "id": "7a7964da",
   "metadata": {},
   "source": [
    "#### My null hypothesis is there is a unit root. Since the test statistic (-0.57682) is larger than the critical values, we cannot reject the null hypothesis. There is also an unsatisfactory p-value (p>0.05). This means there is a unit root and the data is non-stationary."
   ]
  },
  {
   "cell_type": "code",
   "execution_count": 41,
   "id": "5a0ac5c3",
   "metadata": {},
   "outputs": [
    {
     "data": {
      "image/png": "[encoded data removed]",
      "text/plain": [
       "<Figure size 1296x504 with 1 Axes>"
      ]
     },
     "metadata": {
      "needs_background": "light"
     },
     "output_type": "display_data"
    }
   ],
   "source": [
    "# Create a plot of autocorrelations\n",
    "\n",
    "from statsmodels.graphics.tsaplots import plot_acf, plot_pacf\n",
    "\n",
    "plot_acf(df_india_sub_1_filtered)\n",
    "plt.show()"
   ]
  },
  {
   "cell_type": "markdown",
   "id": "6d62a8da",
   "metadata": {},
   "source": [
    "## 5. Stationarize the data using differencing"
   ]
  },
  {
   "cell_type": "code",
   "execution_count": 42,
   "id": "7c0471f7",
   "metadata": {},
   "outputs": [],
   "source": [
    "data_diff_1 = df_india_sub_1_filtered - df_india_sub_1_filtered.shift(1)"
   ]
  },
  {
   "cell_type": "code",
   "execution_count": 44,
   "id": "6e374878",
   "metadata": {},
   "outputs": [],
   "source": [
    "data_diff_1.dropna(inplace = True)"
   ]
  },
  {
   "cell_type": "code",
   "execution_count": 45,
   "id": "8c17204a",
   "metadata": {},
   "outputs": [
    {
     "data": {
      "text/html": [
       "<div>\n",
       "<style scoped>\n",
       "    .dataframe tbody tr th:only-of-type {\n",
       "        vertical-align: middle;\n",
       "    }\n",
       "\n",
       "    .dataframe tbody tr th {\n",
       "        vertical-align: top;\n",
       "    }\n",
       "\n",
       "    .dataframe thead th {\n",
       "        text-align: right;\n",
       "    }\n",
       "</style>\n",
       "<table border=\"1\" class=\"dataframe\">\n",
       "  <thead>\n",
       "    <tr style=\"text-align: right;\">\n",
       "      <th></th>\n",
       "      <th>Maternal Disorders</th>\n",
       "    </tr>\n",
       "    <tr>\n",
       "      <th>datetime</th>\n",
       "      <th></th>\n",
       "    </tr>\n",
       "  </thead>\n",
       "  <tbody>\n",
       "    <tr>\n",
       "      <th>1991-01-01</th>\n",
       "      <td>542.0</td>\n",
       "    </tr>\n",
       "    <tr>\n",
       "      <th>1992-01-01</th>\n",
       "      <td>1214.0</td>\n",
       "    </tr>\n",
       "    <tr>\n",
       "      <th>1993-01-01</th>\n",
       "      <td>-4315.0</td>\n",
       "    </tr>\n",
       "    <tr>\n",
       "      <th>1994-01-01</th>\n",
       "      <td>-3154.0</td>\n",
       "    </tr>\n",
       "    <tr>\n",
       "      <th>1995-01-01</th>\n",
       "      <td>-3465.0</td>\n",
       "    </tr>\n",
       "  </tbody>\n",
       "</table>\n",
       "</div>"
      ],
      "text/plain": [
       "            Maternal Disorders\n",
       "datetime                      \n",
       "1991-01-01               542.0\n",
       "1992-01-01              1214.0\n",
       "1993-01-01             -4315.0\n",
       "1994-01-01             -3154.0\n",
       "1995-01-01             -3465.0"
      ]
     },
     "execution_count": 45,
     "metadata": {},
     "output_type": "execute_result"
    }
   ],
   "source": [
    "data_diff_1.head()"
   ]
  },
  {
   "cell_type": "code",
   "execution_count": 46,
   "id": "5dc143ea",
   "metadata": {},
   "outputs": [
    {
     "data": {
      "text/plain": [
       "Index(['Maternal Disorders'], dtype='object')"
      ]
     },
     "execution_count": 46,
     "metadata": {},
     "output_type": "execute_result"
    }
   ],
   "source": [
    "data_diff_1.columns"
   ]
  },
  {
   "cell_type": "code",
   "execution_count": 47,
   "id": "f89a7bb1",
   "metadata": {},
   "outputs": [
    {
     "data": {
      "text/plain": [
       "[<matplotlib.lines.Line2D at 0x27f8db4a820>]"
      ]
     },
     "execution_count": 47,
     "metadata": {},
     "output_type": "execute_result"
    },
    {
     "data": {
      "image/png": "[encoded data removed]",
      "text/plain": [
       "<Figure size 1500x500 with 1 Axes>"
      ]
     },
     "metadata": {
      "needs_background": "light"
     },
     "output_type": "display_data"
    }
   ],
   "source": [
    "# Check out what the differencing did to the time-series curve\n",
    "\n",
    "plt.figure(figsize=(15,5), dpi=100)\n",
    "plt.plot(data_diff_1)"
   ]
  },
  {
   "cell_type": "markdown",
   "id": "06c44768",
   "metadata": {},
   "source": [
    "#### The curve no longer has a dominant downward trend."
   ]
  },
  {
   "cell_type": "code",
   "execution_count": 48,
   "id": "6912a3a7",
   "metadata": {
    "scrolled": false
   },
   "outputs": [
    {
     "name": "stdout",
     "output_type": "stream",
     "text": [
      "Dickey-Fuller Stationarity test:\n",
      "Test Statistic                 -3.172355\n",
      "p-value                         0.021642\n",
      "Number of Lags Used             0.000000\n",
      "Number of Observations Used    28.000000\n",
      "Critical Value (1%)            -3.688926\n",
      "Critical Value (5%)            -2.971989\n",
      "Critical Value (10%)           -2.625296\n",
      "dtype: float64\n"
     ]
    }
   ],
   "source": [
    "dickey_fuller(data_diff_1)"
   ]
  },
  {
   "cell_type": "markdown",
   "id": "68b52002",
   "metadata": {},
   "source": [
    "#### The test statistic (-3.172355) is now smaller than the critical value at both the 5% and 10% significance levels. There is also a satisfactory p-value (p<0.05). This means we can reject the null hypothesis and, as a result, consider the series stationary."
   ]
  },
  {
   "cell_type": "code",
   "execution_count": 49,
   "id": "9569807a",
   "metadata": {},
   "outputs": [
    {
     "data": {
      "image/png": "[encoded data removed]",
      "text/plain": [
       "<Figure size 1296x504 with 1 Axes>"
      ]
     },
     "metadata": {
      "needs_background": "light"
     },
     "output_type": "display_data"
    }
   ],
   "source": [
    "plot_acf(data_diff_1)\n",
    "plt.show()"
   ]
  },
  {
   "cell_type": "markdown",
   "id": "062f8251",
   "metadata": {},
   "source": [
    "#### There are fewer lines above the blue confidence interval compared to before we performed differencing."
   ]
  }
 ],
 "metadata": {
  "kernelspec": {
   "display_name": "Python 3",
   "language": "python",
   "name": "python3"
  },
  "language_info": {
   "codemirror_mode": {
    "name": "ipython",
    "version": 3
   },
   "file_extension": ".py",
   "mimetype": "text/x-python",
   "name": "python",
   "nbconvert_exporter": "python",
   "pygments_lexer": "ipython3",
   "version": "3.8.8"
  }
 },
 "nbformat": 4,
 "nbformat_minor": 5
}
